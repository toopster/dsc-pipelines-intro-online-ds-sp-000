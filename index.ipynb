{
 "cells": [
  {
   "cell_type": "markdown",
   "metadata": {},
   "source": [
    "# Pipelines - Introduction\n",
    "\n",
    "## Introduction\n",
    "In this section, you'll learn about machine learning pipelines. Pipelines are extremely useful for allowing data scientists to quickly and consistently transform data, train, and use machine learning models. This lesson will summarize the key topics you'll be covering.\n",
    "\n",
    "## Building a Machine Learning Pipeline\n",
    "\n",
    "By now, you know that the data science process is a flow of activities, from inspecting the data to cleaning it, transforming it, running a model, and discussing the results. Wouldn't it be nice if there was a streamlined process to create nice machine learning workflows? Enter machine learning pipelines in scikit-learn!\n",
    "\n",
    "In this section, you'll learn how you can use a pipeline to integrate several steps of the machine learning workflow. Additionally, you'll compare several classification techniques with each other, and integrate grid search in your pipeline so you can tune several hyperparameters in each of the machine learning models.\n",
    "\n",
    "## Summary\n",
    "\n",
    "This section will quickly introduce how to create pipelines in scikit-learn, but it will then be up to you to explore the magical world of pipelines and practice all your machine learning knowledge gained in this module!"
   ]
  }
 ],
 "metadata": {
  "kernelspec": {
   "display_name": "Python 3",
   "language": "python",
   "name": "python3"
  },
  "language_info": {
   "codemirror_mode": {
    "name": "ipython",
    "version": 3
   },
   "file_extension": ".py",
   "mimetype": "text/x-python",
   "name": "python",
   "nbconvert_exporter": "python",
   "pygments_lexer": "ipython3",
   "version": "3.6.9"
  }
 },
 "nbformat": 4,
 "nbformat_minor": 2
}
